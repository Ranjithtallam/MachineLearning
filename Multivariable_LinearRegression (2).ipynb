{
  "nbformat": 4,
  "nbformat_minor": 0,
  "metadata": {
    "colab": {
      "name": "Multivariable_LinearRegression.ipynb",
      "provenance": []
    },
    "kernelspec": {
      "name": "python3",
      "display_name": "Python 3"
    },
    "language_info": {
      "name": "python"
    }
  },
  "cells": [
    {
      "cell_type": "markdown",
      "metadata": {
        "id": "njtIerhKldIe"
      },
      "source": [
        " **Multivariable Linear Regression :**\n",
        "\n",
        "In simple linear regression, we were only able to consider one input feature for predicting the value of the output feature. However, in Multivariable Linear Regression, we can predict the output based on more than one input feature. Here is the formula for multivariable linear regression.\n",
        "![image.png](data:image/png;base64,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)"
      ]
    },
    {
      "cell_type": "markdown",
      "metadata": {
        "id": "-Bnh-ip8l6fn"
      },
      "source": [
        "**Step by step implementation in Python :**\n",
        "\n",
        "***a. Import the required libraries:***\n"
      ]
    },
    {
      "cell_type": "code",
      "metadata": {
        "id": "D-vb8yfplu00"
      },
      "source": [
        "# Import the required libraries:\n",
        "import pandas as pd\n",
        "import numpy as np\n",
        "import matplotlib.pyplot as plt\n",
        "from sklearn import linear_model"
      ],
      "execution_count": 1,
      "outputs": []
    },
    {
      "cell_type": "markdown",
      "metadata": {
        "id": "6HT39T9bmLfi"
      },
      "source": [
        "***b. Read the CSV file :***"
      ]
    },
    {
      "cell_type": "code",
      "metadata": {
        "colab": {
          "base_uri": "https://localhost:8080/",
          "height": 274
        },
        "id": "RoDYPYcLmPjA",
        "outputId": "7eb95418-b7b1-4b34-b5a4-e08ff1d36910"
      },
      "source": [
        "# Read the CSV file:\n",
        "data = pd.read_csv(\"Fuel.csv\")\n",
        "data.head()"
      ],
      "execution_count": 2,
      "outputs": [
        {
          "output_type": "execute_result",
          "data": {
            "text/html": [
              "<div>\n",
              "<style scoped>\n",
              "    .dataframe tbody tr th:only-of-type {\n",
              "        vertical-align: middle;\n",
              "    }\n",
              "\n",
              "    .dataframe tbody tr th {\n",
              "        vertical-align: top;\n",
              "    }\n",
              "\n",
              "    .dataframe thead th {\n",
              "        text-align: right;\n",
              "    }\n",
              "</style>\n",
              "<table border=\"1\" class=\"dataframe\">\n",
              "  <thead>\n",
              "    <tr style=\"text-align: right;\">\n",
              "      <th></th>\n",
              "      <th>MODELYEAR</th>\n",
              "      <th>MAKE</th>\n",
              "      <th>MODEL</th>\n",
              "      <th>VEHICLECLASS</th>\n",
              "      <th>ENGINESIZE</th>\n",
              "      <th>CYLINDERS</th>\n",
              "      <th>TRANSMISSION</th>\n",
              "      <th>FUELTYPE</th>\n",
              "      <th>FUELCONSUMPTION_CITY</th>\n",
              "      <th>FUELCONSUMPTION_HWY</th>\n",
              "      <th>FUELCONSUMPTION_COMB</th>\n",
              "      <th>FUELCONSUMPTION_COMB_MPG</th>\n",
              "      <th>CO2EMISSIONS</th>\n",
              "    </tr>\n",
              "  </thead>\n",
              "  <tbody>\n",
              "    <tr>\n",
              "      <th>0</th>\n",
              "      <td>2014</td>\n",
              "      <td>ACURA</td>\n",
              "      <td>ILX</td>\n",
              "      <td>COMPACT</td>\n",
              "      <td>2.0</td>\n",
              "      <td>4</td>\n",
              "      <td>AS5</td>\n",
              "      <td>Z</td>\n",
              "      <td>9.9</td>\n",
              "      <td>6.7</td>\n",
              "      <td>8.5</td>\n",
              "      <td>33</td>\n",
              "      <td>196</td>\n",
              "    </tr>\n",
              "    <tr>\n",
              "      <th>1</th>\n",
              "      <td>2014</td>\n",
              "      <td>ACURA</td>\n",
              "      <td>ILX</td>\n",
              "      <td>COMPACT</td>\n",
              "      <td>2.4</td>\n",
              "      <td>4</td>\n",
              "      <td>M6</td>\n",
              "      <td>Z</td>\n",
              "      <td>11.2</td>\n",
              "      <td>7.7</td>\n",
              "      <td>9.6</td>\n",
              "      <td>29</td>\n",
              "      <td>221</td>\n",
              "    </tr>\n",
              "    <tr>\n",
              "      <th>2</th>\n",
              "      <td>2014</td>\n",
              "      <td>ACURA</td>\n",
              "      <td>ILX HYBRID</td>\n",
              "      <td>COMPACT</td>\n",
              "      <td>1.5</td>\n",
              "      <td>4</td>\n",
              "      <td>AV7</td>\n",
              "      <td>Z</td>\n",
              "      <td>6.0</td>\n",
              "      <td>5.8</td>\n",
              "      <td>5.9</td>\n",
              "      <td>48</td>\n",
              "      <td>136</td>\n",
              "    </tr>\n",
              "    <tr>\n",
              "      <th>3</th>\n",
              "      <td>2014</td>\n",
              "      <td>ACURA</td>\n",
              "      <td>MDX 4WD</td>\n",
              "      <td>SUV - SMALL</td>\n",
              "      <td>3.5</td>\n",
              "      <td>6</td>\n",
              "      <td>AS6</td>\n",
              "      <td>Z</td>\n",
              "      <td>12.7</td>\n",
              "      <td>9.1</td>\n",
              "      <td>11.1</td>\n",
              "      <td>25</td>\n",
              "      <td>255</td>\n",
              "    </tr>\n",
              "    <tr>\n",
              "      <th>4</th>\n",
              "      <td>2014</td>\n",
              "      <td>ACURA</td>\n",
              "      <td>RDX AWD</td>\n",
              "      <td>SUV - SMALL</td>\n",
              "      <td>3.5</td>\n",
              "      <td>6</td>\n",
              "      <td>AS6</td>\n",
              "      <td>Z</td>\n",
              "      <td>12.1</td>\n",
              "      <td>8.7</td>\n",
              "      <td>10.6</td>\n",
              "      <td>27</td>\n",
              "      <td>244</td>\n",
              "    </tr>\n",
              "  </tbody>\n",
              "</table>\n",
              "</div>"
            ],
            "text/plain": [
              "   MODELYEAR   MAKE  ... FUELCONSUMPTION_COMB_MPG CO2EMISSIONS\n",
              "0       2014  ACURA  ...                       33          196\n",
              "1       2014  ACURA  ...                       29          221\n",
              "2       2014  ACURA  ...                       48          136\n",
              "3       2014  ACURA  ...                       25          255\n",
              "4       2014  ACURA  ...                       27          244\n",
              "\n",
              "[5 rows x 13 columns]"
            ]
          },
          "metadata": {},
          "execution_count": 2
        }
      ]
    },
    {
      "cell_type": "markdown",
      "metadata": {
        "id": "KFW5yNrWmXBf"
      },
      "source": [
        "***c. Define X and Y :***\n",
        "\n",
        "X stores the input features we want to consider, and Y stores the value of output."
      ]
    },
    {
      "cell_type": "code",
      "metadata": {
        "id": "uQPRJclanDU0"
      },
      "source": [
        "# Consider features we want to work on:\n",
        "X = data[[ \"ENGINESIZE\", \"CYLINDERS\", \"FUELCONSUMPTION_CITY\",\"FUELCONSUMPTION_HWY\", \n",
        " \"FUELCONSUMPTION_COMB\",\"FUELCONSUMPTION_COMB_MPG\"]]\n",
        "Y = data[\"CO2EMISSIONS\"]"
      ],
      "execution_count": 3,
      "outputs": []
    },
    {
      "cell_type": "markdown",
      "metadata": {
        "id": "7opXnB8NnhBn"
      },
      "source": [
        "***d. Divide data into a testing and training dataset :***\n",
        "\n",
        "Here we are going to use 80% data in training and 20% data in testing."
      ]
    },
    {
      "cell_type": "code",
      "metadata": {
        "id": "SzbOKIJrnlFJ"
      },
      "source": [
        "# Generating training and testing data from our data:\n",
        "# We are using 80% data for training.\n",
        "train = data[:(int((len(data)*0.8)))]\n",
        "test = data[(int((len(data)*0.8))):]"
      ],
      "execution_count": 4,
      "outputs": []
    },
    {
      "cell_type": "markdown",
      "metadata": {
        "id": "GhxbI2YzoAKx"
      },
      "source": [
        "***e. Train our model :***\n",
        "\n",
        "Here we are going to train our model with 80% of the data."
      ]
    },
    {
      "cell_type": "code",
      "metadata": {
        "id": "Lq6Q3BrZoA7p"
      },
      "source": [
        "#Modeling:\n",
        "#Using sklearn package to model data :\n",
        "regr = linear_model.LinearRegression()\n",
        "train_x = np.array(train[[ \"ENGINESIZE\", \"CYLINDERS\", \"FUELCONSUMPTION_CITY\",\n",
        " \"FUELCONSUMPTION_HWY\", \"FUELCONSUMPTION_COMB\",\"FUELCONSUMPTION_COMB_MPG\"]])\n",
        "train_y = np.array(train[\"CO2EMISSIONS\"])\n",
        "regr.fit(train_x,train_y)\n",
        "test_x = np.array(test[[ \"ENGINESIZE\", \"CYLINDERS\", \"FUELCONSUMPTION_CITY\",\n",
        " \"FUELCONSUMPTION_HWY\", \"FUELCONSUMPTION_COMB\",\"FUELCONSUMPTION_COMB_MPG\"]])\n",
        "test_y = np.array(test[\"CO2EMISSIONS\"])"
      ],
      "execution_count": 5,
      "outputs": []
    },
    {
      "cell_type": "markdown",
      "metadata": {
        "id": "q9O4Jaa6ouBH"
      },
      "source": [
        "***f. Find the coefficients of input features :***\n",
        "\n",
        "Now we need to know which feature has a more significant effect on the output variable. For that, we are going to print the coefficient values. Note that the negative coefficient means it has an inverse effect on the output. i.e., if the value of that features increases, then the output value decreases.\n"
      ]
    },
    {
      "cell_type": "code",
      "metadata": {
        "colab": {
          "base_uri": "https://localhost:8080/",
          "height": 234
        },
        "id": "dCMOHUZ_ozSq",
        "outputId": "6cec0b7f-f61c-44ba-b47d-3b64d0c4a285"
      },
      "source": [
        "# print the coefficient values:\n",
        "coeff_data = pd.DataFrame(regr.coef_ , X.columns , columns=[\"Coefficients\"])\n",
        "coeff_data"
      ],
      "execution_count": 6,
      "outputs": [
        {
          "output_type": "execute_result",
          "data": {
            "text/html": [
              "<div>\n",
              "<style scoped>\n",
              "    .dataframe tbody tr th:only-of-type {\n",
              "        vertical-align: middle;\n",
              "    }\n",
              "\n",
              "    .dataframe tbody tr th {\n",
              "        vertical-align: top;\n",
              "    }\n",
              "\n",
              "    .dataframe thead th {\n",
              "        text-align: right;\n",
              "    }\n",
              "</style>\n",
              "<table border=\"1\" class=\"dataframe\">\n",
              "  <thead>\n",
              "    <tr style=\"text-align: right;\">\n",
              "      <th></th>\n",
              "      <th>Coefficients</th>\n",
              "    </tr>\n",
              "  </thead>\n",
              "  <tbody>\n",
              "    <tr>\n",
              "      <th>ENGINESIZE</th>\n",
              "      <td>7.873147</td>\n",
              "    </tr>\n",
              "    <tr>\n",
              "      <th>CYLINDERS</th>\n",
              "      <td>8.408908</td>\n",
              "    </tr>\n",
              "    <tr>\n",
              "      <th>FUELCONSUMPTION_CITY</th>\n",
              "      <td>-3.368325</td>\n",
              "    </tr>\n",
              "    <tr>\n",
              "      <th>FUELCONSUMPTION_HWY</th>\n",
              "      <td>2.742498</td>\n",
              "    </tr>\n",
              "    <tr>\n",
              "      <th>FUELCONSUMPTION_COMB</th>\n",
              "      <td>3.851251</td>\n",
              "    </tr>\n",
              "    <tr>\n",
              "      <th>FUELCONSUMPTION_COMB_MPG</th>\n",
              "      <td>-4.082913</td>\n",
              "    </tr>\n",
              "  </tbody>\n",
              "</table>\n",
              "</div>"
            ],
            "text/plain": [
              "                          Coefficients\n",
              "ENGINESIZE                    7.873147\n",
              "CYLINDERS                     8.408908\n",
              "FUELCONSUMPTION_CITY         -3.368325\n",
              "FUELCONSUMPTION_HWY           2.742498\n",
              "FUELCONSUMPTION_COMB          3.851251\n",
              "FUELCONSUMPTION_COMB_MPG     -4.082913"
            ]
          },
          "metadata": {},
          "execution_count": 6
        }
      ]
    },
    {
      "cell_type": "markdown",
      "metadata": {
        "id": "MfKboWXQpCN6"
      },
      "source": [
        "***g. Predict the values :***"
      ]
    },
    {
      "cell_type": "code",
      "metadata": {
        "id": "NKPXtFlOpWb3"
      },
      "source": [
        "#Now let’s do prediction of data:\n",
        "Y_pred = regr.predict(test_x)\n"
      ],
      "execution_count": 7,
      "outputs": []
    },
    {
      "cell_type": "markdown",
      "metadata": {
        "id": "839Y7dMTpBpW"
      },
      "source": [
        "***h. Accuracy of the model :***"
      ]
    },
    {
      "cell_type": "code",
      "metadata": {
        "colab": {
          "base_uri": "https://localhost:8080/"
        },
        "id": "hYZAgIe1pXd5",
        "outputId": "5c0f343d-5c36-4991-99fb-60c97997f8c4"
      },
      "source": [
        "# Check accuracy:\n",
        "from sklearn.metrics import r2_score\n",
        "R = r2_score(test_y , Y_pred)\n",
        "print (\"R² :\",R)"
      ],
      "execution_count": 8,
      "outputs": [
        {
          "output_type": "stream",
          "name": "stdout",
          "text": [
            "R² : 0.9362912548588906\n"
          ]
        }
      ]
    }
  ]
}